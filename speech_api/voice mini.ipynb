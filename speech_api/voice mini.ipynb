{
 "cells": [
  {
   "cell_type": "code",
   "execution_count": null,
   "metadata": {},
   "outputs": [],
   "source": [
    "import speech_recognition as rs\n",
    "import pyaudio\n",
    "import audioop\n",
    "import os\n",
    "import math\n",
    "from os import system\n",
    "import threading\n",
    "\n",
    "# Microphone stream config.\n",
    "CHUNK = 1024  # CHUNKS of bytes to read each time from mic\n",
    "FORMAT = pyaudio.paInt16\n",
    "CHANNELS = 1\n",
    "RATE = 16000\n",
    "THRESHOLD = 1500  # The threshold intensity that defines silence\n",
    "                  # and noise signal (an int. lower than THRESHOLD is silence).\n",
    "\n",
    "SILENCE_LIMIT = 1  # Silence limit in seconds. The max ammount of seconds where\n",
    "                   # only silence is recorded. When this time passes the\n",
    "                   # recording finishes and the file is delivered.\n",
    "        \n",
    "def audio_int(num_samples=50):\n",
    "    \"\"\" Gets average audio intensity of your mic sound. You can use it to get\n",
    "        average intensities while you're talking and/or silent. The average\n",
    "        is the avg of the 20% largest intensities recorded.\n",
    "    \"\"\"\n",
    "        \n",
    "    p = pyaudio.PyAudio()\n",
    "\n",
    "    stream = p.open(format=FORMAT,\n",
    "                    channels=CHANNELS,\n",
    "                    rate=RATE,\n",
    "                    input=True,\n",
    "                    frames_per_buffer=CHUNK)\n",
    "\n",
    "    values = [math.sqrt(abs(audioop.avg(stream.read(CHUNK), 4))) \n",
    "              for x in range(num_samples)] \n",
    "    values = sorted(values, reverse=True)\n",
    "    r = sum(values[:int(num_samples * 0.2)]) / int(num_samples * 0.2)\n",
    "    print(\" Average audio intensity is \", r)\n",
    "    stream.close()\n",
    "    p.terminate()\n",
    "    \n",
    "    if r > 500:\n",
    "        listen(0)\n",
    "    \n",
    "    threading.Timer(SILENCE_LIMIT, audio_int).start()\n",
    "    \n",
    "def listen(x):\n",
    "    r=rs.Recognizer()\n",
    "    if x == 0:\n",
    "        system('say Hi. How can I help?')\n",
    "    with rs.Microphone() as source:\n",
    "        audio=r.listen(source)\n",
    "    try:\n",
    "        text = r.recognize_google(audio)\n",
    "        y = process(text.lower())\n",
    "        return(y)\n",
    "    except:\n",
    "        if x == 1:\n",
    "            system('say Good Bye!')\n",
    "        else:\n",
    "            system('say I did not get that. Please say again.')\n",
    "            listen(1)\n",
    "\n",
    "#def process(text):\n",
    " #   ''''''''''''''''''''''''''''''''''''''''''''''''\n",
    " #   '''''''Your application goes here ''''''''''''''\n",
    " #   ''''''''''''''''''''''''''''''''''''''''''''''''"
   ]
  },
  {
   "cell_type": "code",
   "execution_count": null,
   "metadata": {},
   "outputs": [],
   "source": [
    "audio_int()"
   ]
  },
  {
   "cell_type": "code",
   "execution_count": null,
   "metadata": {},
   "outputs": [],
   "source": []
  },
  {
   "cell_type": "code",
   "execution_count": null,
   "metadata": {},
   "outputs": [],
   "source": []
  },
  {
   "cell_type": "code",
   "execution_count": null,
   "metadata": {},
   "outputs": [],
   "source": []
  }
 ],
 "metadata": {
  "kernelspec": {
   "display_name": "Python 3",
   "language": "python",
   "name": "python3"
  },
  "language_info": {
   "codemirror_mode": {
    "name": "ipython",
    "version": 3
   },
   "file_extension": ".py",
   "mimetype": "text/x-python",
   "name": "python",
   "nbconvert_exporter": "python",
   "pygments_lexer": "ipython3",
   "version": "3.8.3"
  }
 },
 "nbformat": 4,
 "nbformat_minor": 2
}
